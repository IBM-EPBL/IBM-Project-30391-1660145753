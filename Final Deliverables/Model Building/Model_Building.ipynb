{
  "nbformat": 4,
  "nbformat_minor": 0,
  "metadata": {
    "colab": {
      "provenance": []
    },
    "kernelspec": {
      "name": "python3",
      "display_name": "Python 3"
    },
    "language_info": {
      "name": "python"
    }
  },
  "cells": [
    {
      "cell_type": "markdown",
      "source": [
        "Date\t: **19 NOVEMBER 2022**\n",
        "\n",
        "Team ID\t: **PNT2022TMID17487**\n",
        "\n",
        "Project Name :\t**AI-powered Nutrition Analyzer for Fitness Enthusiasts**\n",
        "\n",
        "Team Members:\n",
        "\n",
        "1.**Mithun Raj S** - Team Leader\n",
        "\n",
        "2.**Sri Hari V** - Member 1\n",
        "\n",
        "3.**Mohamed Afzal M** - Member 2\n",
        "\n",
        "4.**Logesh Raj R** - Member 3\n"
      ],
      "metadata": {
        "id": "NNKk9qwqAhBN"
      }
    },
    {
      "cell_type": "markdown",
      "source": [
        "1. **Importing The Model Building Libraries**"
      ],
      "metadata": {
        "id": "pp6uVEH6w8in"
      }
    },
    {
      "cell_type": "code",
      "execution_count": null,
      "metadata": {
        "id": "AmR9XVSMcKld"
      },
      "outputs": [],
      "source": [
        "import numpy as np #used for numerical analysis\n",
        "import tensorflow #open source used for both ML and DL for computatio\n",
        "from tensorflow.keras.models import Sequential #it is a palin stack of layer \n",
        "from tensorflow.keras.layers import Layer #Alayer consists of a tensor-in tensor-out computation function\n",
        "from tensorflow.keras.layers import Dense,Flatten #flattening the input or change the dimension\n",
        "from tensorflow.keras.layers import Conv2D,MaxPooling2D,Dropout #convolution layer , MaxPooling2D-for downsampling the image\n",
        "from keras.preprocessing.image import ImageDataGenerator"
      ]
    },
    {
      "cell_type": "markdown",
      "source": [
        "2. **Initializing The Model**"
      ],
      "metadata": {
        "id": "HnwuLgCexOd0"
      }
    },
    {
      "cell_type": "code",
      "source": [
        "model=Sequential()"
      ],
      "metadata": {
        "id": "-hRi4GfodIfs"
      },
      "execution_count": null,
      "outputs": []
    },
    {
      "cell_type": "markdown",
      "source": [
        "3. **Adding CNN Layers**"
      ],
      "metadata": {
        "id": "Ad0F1g31xUV-"
      }
    },
    {
      "cell_type": "code",
      "source": [
        "model.add(Conv2D(32,(3,3),input_shape=(64,64,3),activation='relu'))\n",
        "model.add(MaxPooling2D(pool_size =(2,2)))\n",
        "model.add(Conv2D(32,(3,3),activation='relu'))\n",
        "model.add(MaxPooling2D(pool_size =(2,2)))\n",
        "model.add(Flatten())"
      ],
      "metadata": {
        "id": "0XE9NlqIdVtq"
      },
      "execution_count": null,
      "outputs": []
    },
    {
      "cell_type": "markdown",
      "source": [
        "4. **Adding Dense Layers**"
      ],
      "metadata": {
        "id": "XU1Qd9pIxceD"
      }
    },
    {
      "cell_type": "code",
      "source": [
        "model.add(Dense(units=128,activation='relu'))\n",
        "model.add(Dense(units=128,activation='softmax'))\n",
        "model.summary"
      ],
      "metadata": {
        "colab": {
          "base_uri": "https://localhost:8080/"
        },
        "id": "0178opRPdol3",
        "outputId": "be5dc6a4-4d55-422f-c77a-8aa0dd9a7bf5"
      },
      "execution_count": null,
      "outputs": [
        {
          "output_type": "execute_result",
          "data": {
            "text/plain": [
              "<bound method Model.summary of <keras.engine.sequential.Sequential object at 0x7fa3a4988190>>"
            ]
          },
          "metadata": {},
          "execution_count": 4
        }
      ]
    },
    {
      "cell_type": "markdown",
      "source": [
        "5. **Configure The Learning Process**"
      ],
      "metadata": {
        "id": "1HKM4z2axwNw"
      }
    },
    {
      "cell_type": "code",
      "source": [
        "model.compile(optimizer='adam',loss='sparse_categorical_crossentropy',metrics=['accuracy'])"
      ],
      "metadata": {
        "id": "SkMn2Ge5d2A4"
      },
      "execution_count": null,
      "outputs": []
    },
    {
      "cell_type": "markdown",
      "source": [
        "6. **Train The Model**"
      ],
      "metadata": {
        "id": "pU2JfkWkyUEb"
      }
    },
    {
      "cell_type": "code",
      "source": [
        "from google.colab import drive"
      ],
      "metadata": {
        "id": "ZYfkK-KOeACW"
      },
      "execution_count": null,
      "outputs": []
    },
    {
      "cell_type": "code",
      "source": [
        "drive.mount('/content/drive')"
      ],
      "metadata": {
        "colab": {
          "base_uri": "https://localhost:8080/"
        },
        "id": "rwcfyNc3skG7",
        "outputId": "628dbe0b-d93d-46b5-9c56-62b5c1194183"
      },
      "execution_count": null,
      "outputs": [
        {
          "output_type": "stream",
          "name": "stdout",
          "text": [
            "Drive already mounted at /content/drive; to attempt to forcibly remount, call drive.mount(\"/content/drive\", force_remount=True).\n"
          ]
        }
      ]
    },
    {
      "cell_type": "code",
      "source": [
        "from keras.preprocessing.image import ImageDataGenerator\n",
        "train_datagen = ImageDataGenerator(rescale = 1./255,shear_range=0.2,zoom_range=0.2,horizontal_flip=True)\n",
        "test_datagen = ImageDataGenerator(rescale = 1./255)\n",
        "x_train = train_datagen.flow_from_directory(r'/content/drive/MyDrive/Dataset/TRAIN_SET',target_size = (64,64) ,batch_size = 5,color_mode='rgb',class_mode = 'sparse')\n",
        "x_test = test_datagen.flow_from_directory(r'/content/drive/MyDrive/Dataset/TEST_SET',target_size = (64,64) ,batch_size = 5,color_mode='rgb',class_mode = 'sparse')"
      ],
      "metadata": {
        "colab": {
          "base_uri": "https://localhost:8080/"
        },
        "id": "83bAmrRHszx9",
        "outputId": "eb194538-6a61-4877-bbdb-1b94d9fd6a15"
      },
      "execution_count": null,
      "outputs": [
        {
          "output_type": "stream",
          "name": "stdout",
          "text": [
            "Found 2626 images belonging to 5 classes.\n",
            "Found 1055 images belonging to 5 classes.\n"
          ]
        }
      ]
    },
    {
      "cell_type": "code",
      "source": [
        "model.fit_generator(\n",
        "generator=x_train,steps_per_epoch=len(x_train),\n",
        "epochs=20,validation_data=x_test,validation_steps=len(x_test))"
      ],
      "metadata": {
        "colab": {
          "base_uri": "https://localhost:8080/"
        },
        "id": "_sbZtkd7t8mE",
        "outputId": "881acf65-c874-4006-b6f2-152462cf66da"
      },
      "execution_count": null,
      "outputs": [
        {
          "output_type": "stream",
          "name": "stderr",
          "text": [
            "/usr/local/lib/python3.7/dist-packages/ipykernel_launcher.py:3: UserWarning: `Model.fit_generator` is deprecated and will be removed in a future version. Please use `Model.fit`, which supports generators.\n",
            "  This is separate from the ipykernel package so we can avoid doing imports until\n"
          ]
        },
        {
          "output_type": "stream",
          "name": "stdout",
          "text": [
            "Epoch 1/20\n",
            "526/526 [==============================] - 814s 2s/step - loss: 0.1891 - accuracy: 0.9334 - val_loss: 0.0297 - val_accuracy: 0.9877\n",
            "Epoch 2/20\n",
            "526/526 [==============================] - 31s 60ms/step - loss: 0.0217 - accuracy: 0.9935 - val_loss: 0.0079 - val_accuracy: 1.0000\n",
            "Epoch 3/20\n",
            "526/526 [==============================] - 30s 57ms/step - loss: 7.7190e-04 - accuracy: 1.0000 - val_loss: 0.0032 - val_accuracy: 1.0000\n",
            "Epoch 4/20\n",
            "526/526 [==============================] - 30s 57ms/step - loss: 1.1436e-04 - accuracy: 1.0000 - val_loss: 0.0020 - val_accuracy: 1.0000\n",
            "Epoch 5/20\n",
            "526/526 [==============================] - 30s 57ms/step - loss: 0.0133 - accuracy: 0.9966 - val_loss: 0.0061 - val_accuracy: 1.0000\n",
            "Epoch 6/20\n",
            "526/526 [==============================] - 30s 58ms/step - loss: 4.9246e-05 - accuracy: 1.0000 - val_loss: 0.0015 - val_accuracy: 1.0000\n",
            "Epoch 7/20\n",
            "526/526 [==============================] - 30s 57ms/step - loss: 3.3684e-05 - accuracy: 1.0000 - val_loss: 0.0023 - val_accuracy: 1.0000\n",
            "Epoch 8/20\n",
            "526/526 [==============================] - 29s 56ms/step - loss: 1.4975e-05 - accuracy: 1.0000 - val_loss: 0.0018 - val_accuracy: 1.0000\n",
            "Epoch 9/20\n",
            "526/526 [==============================] - 30s 56ms/step - loss: 9.9279e-06 - accuracy: 1.0000 - val_loss: 9.4072e-04 - val_accuracy: 1.0000\n",
            "Epoch 10/20\n",
            "526/526 [==============================] - 30s 56ms/step - loss: 9.2329e-06 - accuracy: 1.0000 - val_loss: 0.0013 - val_accuracy: 1.0000\n",
            "Epoch 11/20\n",
            "526/526 [==============================] - 31s 58ms/step - loss: 6.0631e-06 - accuracy: 1.0000 - val_loss: 0.0014 - val_accuracy: 1.0000\n",
            "Epoch 12/20\n",
            "526/526 [==============================] - 30s 57ms/step - loss: 3.7932e-06 - accuracy: 1.0000 - val_loss: 9.6042e-04 - val_accuracy: 1.0000\n",
            "Epoch 13/20\n",
            "526/526 [==============================] - 29s 56ms/step - loss: 0.0644 - accuracy: 0.9882 - val_loss: 0.0034 - val_accuracy: 1.0000\n",
            "Epoch 14/20\n",
            "526/526 [==============================] - 29s 56ms/step - loss: 1.8209e-04 - accuracy: 1.0000 - val_loss: 0.0014 - val_accuracy: 1.0000\n",
            "Epoch 15/20\n",
            "526/526 [==============================] - 30s 57ms/step - loss: 4.9225e-05 - accuracy: 1.0000 - val_loss: 0.0014 - val_accuracy: 1.0000\n",
            "Epoch 16/20\n",
            "526/526 [==============================] - 29s 56ms/step - loss: 2.6990e-05 - accuracy: 1.0000 - val_loss: 0.0016 - val_accuracy: 1.0000\n",
            "Epoch 17/20\n",
            "526/526 [==============================] - 31s 59ms/step - loss: 2.1782e-05 - accuracy: 1.0000 - val_loss: 0.0013 - val_accuracy: 1.0000\n",
            "Epoch 18/20\n",
            "526/526 [==============================] - 30s 57ms/step - loss: 1.2495e-05 - accuracy: 1.0000 - val_loss: 0.0014 - val_accuracy: 1.0000\n",
            "Epoch 19/20\n",
            "526/526 [==============================] - 29s 56ms/step - loss: 1.1300e-05 - accuracy: 1.0000 - val_loss: 8.8687e-04 - val_accuracy: 1.0000\n",
            "Epoch 20/20\n",
            "526/526 [==============================] - 30s 57ms/step - loss: 6.2542e-06 - accuracy: 1.0000 - val_loss: 8.5845e-04 - val_accuracy: 1.0000\n"
          ]
        },
        {
          "output_type": "execute_result",
          "data": {
            "text/plain": [
              "<keras.callbacks.History at 0x7fa333613790>"
            ]
          },
          "metadata": {},
          "execution_count": 9
        }
      ]
    },
    {
      "cell_type": "markdown",
      "source": [
        "7. **Save The Model**"
      ],
      "metadata": {
        "id": "DMsOuvpR0GkS"
      }
    },
    {
      "cell_type": "code",
      "source": [
        "model.save('nutrition.h5')"
      ],
      "metadata": {
        "id": "zWI3g6JE0LPx"
      },
      "execution_count": null,
      "outputs": []
    },
    {
      "cell_type": "markdown",
      "source": [
        "8. **Test The Model**"
      ],
      "metadata": {
        "id": "wXU3LBSt0dl3"
      }
    },
    {
      "cell_type": "code",
      "source": [
        "from tensorflow.keras.models import load_model\n",
        "from keras_preprocessing import image\n",
        "from keras_preprocessing.image import load_img\n",
        "from keras_preprocessing.image import img_to_array"
      ],
      "metadata": {
        "id": "BDVWkUKX0mC_"
      },
      "execution_count": null,
      "outputs": []
    },
    {
      "cell_type": "code",
      "source": [
        "model = load_model(\"nutrition.h5\")\n",
        "labels=['APPLES','BANANA','ORANGE','PINEAPPLE','WATERMELON']"
      ],
      "metadata": {
        "id": "bBpTArnR0oWX"
      },
      "execution_count": null,
      "outputs": []
    },
    {
      "cell_type": "code",
      "source": [
        "img = load_img(r\"/content/drive/MyDrive/Dataset/TEST_SET/APPLES/151_100.jpg\",grayscale=False,target_size=(64,64))\n",
        "x = img_to_array(img)\n",
        "x = np.expand_dims(x,axis = 0)\n",
        "predict_x=model.predict(x) \n",
        "classes_x=np.argmax(predict_x,axis=-1)\n",
        "classes_x\n",
        "index=['APPLES', 'BANANA', 'ORANGE','PINEAPPLE','WATERMELON']\n",
        "result=str(index[classes_x[0]])\n",
        "result"
      ],
      "metadata": {
        "colab": {
          "base_uri": "https://localhost:8080/",
          "height": 53
        },
        "id": "MZTS0jag0rlf",
        "outputId": "474490e0-3904-45c0-9922-05d7c1c84e27"
      },
      "execution_count": null,
      "outputs": [
        {
          "output_type": "stream",
          "name": "stdout",
          "text": [
            "1/1 [==============================] - 0s 22ms/step\n"
          ]
        },
        {
          "output_type": "execute_result",
          "data": {
            "text/plain": [
              "'APPLES'"
            ],
            "application/vnd.google.colaboratory.intrinsic+json": {
              "type": "string"
            }
          },
          "metadata": {},
          "execution_count": 26
        }
      ]
    }
  ]
}