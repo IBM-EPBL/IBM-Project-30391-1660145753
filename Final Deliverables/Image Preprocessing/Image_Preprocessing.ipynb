{
  "cells": [
    {
      "cell_type": "markdown",
      "metadata": {
        "id": "pp6uVEH6w8in"
      },
      "source": [
      ]
    },
    {
      "cell_type": "code",
      "execution_count": 1,
      "metadata": {
        "id": "AmR9XVSMcKld"
      },
      "outputs": [],
      "source": [
        "import numpy as np\n",
        "import tensorflow\n",
        "from tensorflow.keras.models import Sequential\n",
        "from tensorflow.keras.layers import Layer\n",
        "from tensorflow.keras.layers import Dense,Flatten\n",
        "from tensorflow.keras.layers import Conv2D,MaxPooling2D,Dropout\n",
        "from keras.preprocessing.image import ImageDataGenerator"
      ]
    },
    {
      "cell_type": "code",
      "execution_count": 6,
      "metadata": {
        "id": "ZYfkK-KOeACW"
      },
      "outputs": [],
      "source": [
        "from google.colab import drive"
      ]
    },
    {
      "cell_type": "code",
      "execution_count": 7,
      "metadata": {
        "colab": {
          "base_uri": "https://localhost:8080/"
        },
        "id": "rwcfyNc3skG7",
        "outputId": "628dbe0b-d93d-46b5-9c56-62b5c1194183"
      },
      "outputs": [
        {
          "name": "stdout",
          "output_type": "stream",
          "text": [
            "Drive already mounted at /content/drive; to attempt to forcibly remount, call drive.mount(\"/content/drive\", force_remount=True).\n"
          ]
        }
      ],
      "source": [
        "drive.mount('/content/drive')"
      ]
    },
    {
      "cell_type": "code",
      "execution_count": 8,
      "metadata": {
        "colab": {
          "base_uri": "https://localhost:8080/"
        },
        "id": "83bAmrRHszx9",
        "outputId": "eb194538-6a61-4877-bbdb-1b94d9fd6a15"
      },
      "outputs": [
        {
          "name": "stdout",
          "output_type": "stream",
          "text": [
            "Found 2626 images belonging to 5 classes.\n",
            "Found 1055 images belonging to 5 classes.\n"
          ]
        }
      ],
      "source": [
        "from keras.preprocessing.image import ImageDataGenerator\n",
        "train_datagen = ImageDataGenerator(rescale = 1./255,shear_range=0.2,zoom_range=0.2,horizontal_flip=True)\n",
        "test_datagen = ImageDataGenerator(rescale = 1./255)\n",
        "x_train = train_datagen.flow_from_directory(r'/content/drive/MyDrive/Dataset/TRAIN_SET',target_size = (64,64) ,batch_size = 5,color_mode='rgb',class_mode = 'sparse')\n",
        "x_test = test_datagen.flow_from_directory(r'/content/drive/MyDrive/Dataset/TEST_SET',target_size = (64,64) ,batch_size = 5,color_mode='rgb',class_mode = 'sparse')"
      ]
    }
  ],
  "metadata": {
    "colab": {
      "provenance": []
    },
    "kernelspec": {
      "display_name": "Python 3",
      "name": "python3"
    },
    "language_info": {
      "name": "python"
    }
  },
  "nbformat": 4,
  "nbformat_minor": 0
}
